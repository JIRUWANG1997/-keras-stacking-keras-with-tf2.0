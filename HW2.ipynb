{
  "nbformat": 4,
  "nbformat_minor": 0,
  "metadata": {
    "colab": {
      "name": "HW2",
      "provenance": [],
      "collapsed_sections": [],
      "toc_visible": true,
      "include_colab_link": true
    },
    "kernelspec": {
      "display_name": "Python 3",
      "name": "python3"
    }
  },
  "cells": [
    {
      "cell_type": "markdown",
      "metadata": {
        "id": "view-in-github",
        "colab_type": "text"
      },
      "source": [
        "<a href=\"https://colab.research.google.com/github/JIRUWANG1997/-keras-stacking-keras-with-tf2.0/blob/master/HW2.ipynb\" target=\"_parent\"><img src=\"https://colab.research.google.com/assets/colab-badge.svg\" alt=\"Open In Colab\"/></a>"
      ]
    },
    {
      "cell_type": "markdown",
      "metadata": {
        "id": "IyqnMDfGSe-z"
      },
      "source": [
        "# sample code"
      ]
    },
    {
      "cell_type": "code",
      "metadata": {
        "id": "0trJmd6DjqBZ",
        "colab": {
          "base_uri": "https://localhost:8080/"
        },
        "outputId": "a520586c-2513-42f2-fcc7-f7d76f615979"
      },
      "source": [
        "import tensorflow as tf\n",
        "mnist = tf.keras.datasets.mnist\n",
        "\n",
        "(x_train, y_train), (x_test, y_test) = mnist.load_data()\n",
        "x_train, x_test = x_train / 255.0, x_test / 255.0\n",
        "model = tf.keras.models.Sequential([\n",
        "  tf.keras.layers.Flatten(input_shape=(28, 28)),\n",
        "  tf.keras.layers.Dense(128, activation='relu'),\n",
        "  tf.keras.layers.Dropout(0.2),\n",
        "  tf.keras.layers.Dense(10)\n",
        "])\n",
        "predictions = model(x_train[:1]).numpy()\n",
        "tf.nn.softmax(predictions).numpy()\n",
        "loss_fn = tf.keras.losses.SparseCategoricalCrossentropy(from_logits=True)\n",
        "model.compile(optimizer='adam',\n",
        "              loss=loss_fn,\n",
        "              metrics=['accuracy'])\n",
        "model.fit(x_train, y_train, epochs=5)\n",
        "model.evaluate(x_test,  y_test, verbose=2)\n",
        "probability_model = tf.keras.Sequential([\n",
        "  model,\n",
        "  tf.keras.layers.Softmax()\n",
        "])\n",
        "probability_model(x_test[:5])"
      ],
      "execution_count": 304,
      "outputs": [
        {
          "output_type": "stream",
          "text": [
            "Epoch 1/5\n",
            "1875/1875 [==============================] - 3s 2ms/step - loss: 0.2967 - accuracy: 0.9135\n",
            "Epoch 2/5\n",
            "1875/1875 [==============================] - 3s 2ms/step - loss: 0.1441 - accuracy: 0.9572\n",
            "Epoch 3/5\n",
            "1875/1875 [==============================] - 3s 2ms/step - loss: 0.1093 - accuracy: 0.9668\n",
            "Epoch 4/5\n",
            "1875/1875 [==============================] - 3s 2ms/step - loss: 0.0891 - accuracy: 0.9721\n",
            "Epoch 5/5\n",
            "1875/1875 [==============================] - 3s 2ms/step - loss: 0.0755 - accuracy: 0.9758\n",
            "313/313 - 0s - loss: 0.0824 - accuracy: 0.9754\n"
          ],
          "name": "stdout"
        },
        {
          "output_type": "execute_result",
          "data": {
            "text/plain": [
              "<tf.Tensor: shape=(5, 10), dtype=float32, numpy=\n",
              "array([[4.32630287e-08, 4.73911435e-08, 5.77989886e-06, 1.02340034e-03,\n",
              "        1.49658584e-11, 6.21373673e-08, 3.23945189e-13, 9.98962402e-01,\n",
              "        6.02437808e-07, 7.62699301e-06],\n",
              "       [7.52918261e-09, 1.00740217e-05, 9.99942541e-01, 4.72317297e-05,\n",
              "        1.06826062e-16, 2.07247311e-07, 7.23406890e-11, 2.97387847e-14,\n",
              "        5.07540499e-08, 1.58706788e-13],\n",
              "       [9.35022911e-07, 9.98869002e-01, 1.06165302e-04, 6.85761333e-05,\n",
              "        3.66087988e-05, 3.23258109e-06, 9.15896726e-06, 8.61397129e-04,\n",
              "        4.41215961e-05, 7.40597841e-07],\n",
              "       [9.99366224e-01, 7.30630836e-06, 4.19098535e-04, 6.64026174e-06,\n",
              "        5.82192001e-08, 7.46325895e-05, 1.06518004e-04, 1.36321069e-05,\n",
              "        1.48977836e-06, 4.46024205e-06],\n",
              "       [2.39175224e-05, 1.42523923e-10, 7.77342484e-06, 2.14112873e-07,\n",
              "        9.87623572e-01, 3.15035618e-06, 7.69613180e-05, 3.19402643e-05,\n",
              "        7.30328247e-05, 1.21594518e-02]], dtype=float32)>"
            ]
          },
          "metadata": {
            "tags": []
          },
          "execution_count": 304
        }
      ]
    },
    {
      "cell_type": "code",
      "metadata": {
        "id": "DIhDAR5A-D35",
        "colab": {
          "base_uri": "https://localhost:8080/"
        },
        "outputId": "ebf084be-c5e6-4a3c-a0c4-05a19d8c242b"
      },
      "source": [
        "probability_model(x_test[:5])"
      ],
      "execution_count": null,
      "outputs": [
        {
          "output_type": "execute_result",
          "data": {
            "text/plain": [
              "<tf.Tensor: shape=(5, 10), dtype=float32, numpy=\n",
              "array([[2.2367746e-07, 1.8729862e-09, 2.5051955e-05, 9.5165837e-05,\n",
              "        9.3222097e-10, 2.2483352e-06, 2.8101466e-13, 9.9986076e-01,\n",
              "        1.0148378e-05, 6.4695296e-06],\n",
              "       [2.1553406e-09, 3.8396367e-05, 9.9995553e-01, 5.4438619e-06,\n",
              "        9.8279422e-16, 1.5440030e-07, 2.2692070e-08, 2.9833591e-14,\n",
              "        4.3942455e-07, 6.0615047e-14],\n",
              "       [5.4146761e-07, 9.9852681e-01, 3.1582775e-05, 4.7400981e-06,\n",
              "        7.0340138e-05, 1.1511768e-05, 3.6368332e-05, 9.2734164e-04,\n",
              "        3.8933728e-04, 1.4934994e-06],\n",
              "       [9.9985385e-01, 9.7978194e-09, 1.2761656e-04, 3.1325479e-07,\n",
              "        6.6936243e-09, 1.0059260e-06, 2.2172953e-06, 1.3213050e-05,\n",
              "        4.7675678e-07, 1.2648077e-06],\n",
              "       [2.6168602e-06, 4.2324905e-07, 1.7644874e-05, 5.9223925e-07,\n",
              "        9.3812501e-01, 6.9801440e-06, 4.3912187e-06, 1.4851654e-03,\n",
              "        7.0428010e-05, 6.0286772e-02]], dtype=float32)>"
            ]
          },
          "metadata": {
            "tags": []
          },
          "execution_count": 59
        }
      ]
    },
    {
      "cell_type": "markdown",
      "metadata": {
        "id": "yt3lKOyWSjQ5"
      },
      "source": [
        "# Untargeted FGS method"
      ]
    },
    {
      "cell_type": "code",
      "metadata": {
        "id": "7pw9dcuwSye4"
      },
      "source": [
        "import tensorflow as tf"
      ],
      "execution_count": 180,
      "outputs": []
    },
    {
      "cell_type": "code",
      "metadata": {
        "id": "mBRmYEwzR7Fi"
      },
      "source": [
        "class FGSM(object):\n",
        "  def __init__(self, data_x,data_y):\n",
        "    self.data_x = data_x\n",
        "    self.data_y = data_y\n",
        "  def Non_target_fgsm(self,parameter):\n",
        "    x_tensor = tf.convert_to_tensor(self.data_x, dtype=tf.float32)\n",
        "    with tf.GradientTape() as tape:\n",
        "      tape.watch(x_tensor)\n",
        "      output = model(x_tensor)\n",
        "      loss_grad = loss_fn(self.data_y,output)\n",
        "    gradients = tape.gradient(loss_grad,x_tensor)\n",
        "    gradients_sign = tf.sign(gradients)\n",
        "    gradients_sign = np.array(gradients_sign)\n",
        "    x_test_new = self.data_x + parameter * gradients_sign\n",
        "    x_test_new = np.clip(x_test_new,np.min(self.data_x), np.max(self.data_x))\n",
        "    return x_test_new\n",
        "  def Target_fgsm(self,parameter):\n",
        "    x_tensor = tf.convert_to_tensor(self.data_x, dtype=tf.float32)\n",
        "    with tf.GradientTape() as tape:\n",
        "      tape.watch(x_tensor)\n",
        "      output = model(x_tensor)\n",
        "      loss_grad = loss_fn((self.data_y+1)%10,output)\n",
        "    gradients = tape.gradient(loss_grad,x_tensor)\n",
        "    gradients_sign = tf.sign(gradients)\n",
        "    gradients_sign = np.array(gradients_sign)\n",
        "    x_test_new = self.data_x - parameter * gradients_sign\n",
        "    x_test_new = np.clip(x_test_new,np.min(self.data_x), np.max(self.data_x))\n",
        "    return x_test_new"
      ],
      "execution_count": 325,
      "outputs": []
    },
    {
      "cell_type": "code",
      "metadata": {
        "colab": {
          "base_uri": "https://localhost:8080/",
          "height": 382
        },
        "id": "ASNRMhEnXxzD",
        "outputId": "a5b8b7cf-af9b-4c92-c26b-f9f4375284a1"
      },
      "source": [
        "global parameters\n",
        "if __name__ == \"__main__\":\n",
        "  output = np.array(probability_model(x_test))\n",
        "  res = np.argmax(output,axis=1).tolist()\n",
        "  y_test.tolist()\n",
        "  c = 0\n",
        "  right_index = []\n",
        "  for i in range(len(res)):\n",
        "    if res[i] == y_test[i]:\n",
        "      c += 1\n",
        "      right_index.append(i)\n",
        "  parameters = [1, 5, 10, 20, 30, 40, 50]\n",
        "  U_F = FGSM(x_test,y_test)\n",
        "  pre_acc = []\n",
        "  c = 0\n",
        "  success_rate = []\n",
        "  for parameter in parameters:\n",
        "    x_new = U_F.Non_target_fgsm(parameter/255)\n",
        "    pre_acc.append(model.evaluate(x_new,y_test)[1])\n",
        "    out_new = np.array(probability_model(x_new))\n",
        "    output_new = np.argmax(out_new,axis=1).tolist()\n",
        "    c = 0\n",
        "    for i in right_index:\n",
        "      if output_new[i] != y_test[i]:\n",
        "        c += 1\n",
        "    success_rate.append(c/len(right_index))\n",
        "  import matplotlib.pyplot as plt\n",
        "  plt.plot(success_rate)\n",
        "  plt.plot(pre_acc)\n",
        "  plt.show()\n"
      ],
      "execution_count": 277,
      "outputs": [
        {
          "output_type": "stream",
          "text": [
            "313/313 [==============================] - 0s 1ms/step - loss: 0.0954 - accuracy: 0.9710\n",
            "313/313 [==============================] - 0s 1ms/step - loss: 0.2252 - accuracy: 0.9312\n",
            "313/313 [==============================] - 0s 1ms/step - loss: 0.6036 - accuracy: 0.8103\n",
            "313/313 [==============================] - 0s 1ms/step - loss: 2.5552 - accuracy: 0.3553\n",
            "313/313 [==============================] - 0s 1ms/step - loss: 5.2737 - accuracy: 0.1311\n",
            "313/313 [==============================] - 0s 1ms/step - loss: 7.9952 - accuracy: 0.0480\n",
            "313/313 [==============================] - 0s 1ms/step - loss: 10.7089 - accuracy: 0.0189\n"
          ],
          "name": "stdout"
        },
        {
          "output_type": "display_data",
          "data": {
            "image/png": "[encoded data removed]",
            "text/plain": [
              "<Figure size 432x288 with 1 Axes>"
            ]
          },
          "metadata": {
            "tags": [],
            "needs_background": "light"
          }
        }
      ]
    },
    {
      "cell_type": "markdown",
      "metadata": {
        "id": "vrra-TS5t04_"
      },
      "source": [
        "# Targeted FGS method"
      ]
    },
    {
      "cell_type": "code",
      "metadata": {
        "colab": {
          "base_uri": "https://localhost:8080/",
          "height": 382
        },
        "id": "c1ApdbYu12NX",
        "outputId": "3b280a5a-2592-4f05-d940-186e67942eaa"
      },
      "source": [
        "global parameters\n",
        "if __name__ == \"__main__\":\n",
        "  output = np.array(probability_model(x_test))\n",
        "  res = np.argmax(output,axis=1).tolist()\n",
        "  y_test.tolist()\n",
        "  c = 0\n",
        "  right_index = []\n",
        "  for i in range(len(res)):\n",
        "    if res[i] == y_test[i]:\n",
        "      c += 1\n",
        "      right_index.append(i)\n",
        "  parameters = [1, 5, 10, 20, 30, 40, 50]\n",
        "  T_F = FGSM(x_test,y_test)\n",
        "  pre_acc = []\n",
        "  c = 0\n",
        "  success_rate = []\n",
        "  for parameter in parameters:\n",
        "    x_new = T_F.Target_fgsm(parameter/255)\n",
        "    pre_acc.append(model.evaluate(x_new,y_test)[1])\n",
        "    out_new = np.array(probability_model(x_new))\n",
        "    output_new = np.argmax(out_new,axis=1).tolist()\n",
        "    c = 0\n",
        "    for i in right_index:\n",
        "      if output_new[i] != y_test[i]:\n",
        "        c += 1\n",
        "    success_rate.append(c/len(right_index))\n",
        "  import matplotlib.pyplot as plt\n",
        "\n",
        "  plt.plot(success_rate)\n",
        "  plt.show()"
      ],
      "execution_count": 326,
      "outputs": [
        {
          "output_type": "stream",
          "text": [
            "313/313 [==============================] - 0s 1ms/step - loss: 0.0857 - accuracy: 0.9747\n",
            "313/313 [==============================] - 0s 1ms/step - loss: 0.5263 - accuracy: 0.8464\n",
            "313/313 [==============================] - 0s 1ms/step - loss: 4.2448 - accuracy: 0.3564\n",
            "313/313 [==============================] - 0s 1ms/step - loss: 21.5894 - accuracy: 0.0191\n",
            "313/313 [==============================] - 0s 1ms/step - loss: 42.6571 - accuracy: 4.0000e-04\n",
            "313/313 [==============================] - 0s 1ms/step - loss: 65.1794 - accuracy: 0.0000e+00\n",
            "313/313 [==============================] - 0s 1ms/step - loss: 88.7350 - accuracy: 0.0000e+00\n"
          ],
          "name": "stdout"
        },
        {
          "output_type": "display_data",
          "data": {
            "image/png": "[encoded data removed]",
            "text/plain": [
              "<Figure size 432x288 with 1 Axes>"
            ]
          },
          "metadata": {
            "tags": [],
            "needs_background": "light"
          }
        }
      ]
    },
    {
      "cell_type": "markdown",
      "metadata": {
        "id": "0KKcNmOX7nOE"
      },
      "source": [
        "# Adversarial Retraining against Untargeted FGSM Attacks"
      ]
    },
    {
      "cell_type": "code",
      "metadata": {
        "colab": {
          "base_uri": "https://localhost:8080/"
        },
        "id": "XvxEJd7AlgOF",
        "outputId": "ba54b830-59bc-477a-82e9-5377d0590190"
      },
      "source": [
        "(x_train, y_train), (x_test, y_test) = mnist.load_data()\n",
        "x_train, x_test = x_train / 255.0, x_test / 255.0\n",
        "model = tf.keras.models.Sequential([\n",
        "  tf.keras.layers.Flatten(input_shape=(28, 28)),\n",
        "  tf.keras.layers.Dense(128, activation='relu'),\n",
        "  tf.keras.layers.Dropout(0.2),\n",
        "  tf.keras.layers.Dense(10)\n",
        "])\n",
        "predictions = model(x_train[:1]).numpy()\n",
        "tf.nn.softmax(predictions).numpy()\n",
        "loss_fn = tf.keras.losses.SparseCategoricalCrossentropy(from_logits=True)\n",
        "model.compile(optimizer='adam',\n",
        "              loss=loss_fn,\n",
        "              metrics=['accuracy'])\n",
        "model.fit(x_train, y_train, epochs=5)\n",
        "model.evaluate(x_test,  y_test, verbose=2)"
      ],
      "execution_count": 327,
      "outputs": [
        {
          "output_type": "stream",
          "text": [
            "Epoch 1/5\n",
            "1875/1875 [==============================] - 4s 2ms/step - loss: 0.2920 - accuracy: 0.9153\n",
            "Epoch 2/5\n",
            "1875/1875 [==============================] - 4s 2ms/step - loss: 0.1443 - accuracy: 0.9574\n",
            "Epoch 3/5\n",
            "1875/1875 [==============================] - 4s 2ms/step - loss: 0.1076 - accuracy: 0.9673\n",
            "Epoch 4/5\n",
            "1875/1875 [==============================] - 3s 2ms/step - loss: 0.0895 - accuracy: 0.9727\n",
            "Epoch 5/5\n",
            "1875/1875 [==============================] - 3s 2ms/step - loss: 0.0759 - accuracy: 0.9761\n",
            "313/313 - 0s - loss: 0.0737 - accuracy: 0.9775\n"
          ],
          "name": "stdout"
        },
        {
          "output_type": "execute_result",
          "data": {
            "text/plain": [
              "[0.07372163236141205, 0.9775000214576721]"
            ]
          },
          "metadata": {
            "tags": []
          },
          "execution_count": 327
        }
      ]
    },
    {
      "cell_type": "code",
      "metadata": {
        "id": "j9ty-a91GBgj"
      },
      "source": [
        "def perturbs(parameter,data_x,data_y):\n",
        "    x_tensor = tf.convert_to_tensor(data_x, dtype=tf.float32)\n",
        "    with tf.GradientTape() as tape:\n",
        "      tape.watch(x_tensor)\n",
        "      output = model(x_tensor)\n",
        "      loss_grad = loss_fn(data_y,output)\n",
        "    gradients = tape.gradient(loss_grad,x_tensor)\n",
        "    gradients_sign = tf.sign(gradients)\n",
        "    gradients_sign = np.array(gradients_sign)\n",
        "    x_test_new = data_x + parameter * gradients_sign\n",
        "    x_test_new = np.clip(x_test_new,np.min(data_x), np.max(data_x))\n",
        "    return x_test_new"
      ],
      "execution_count": 328,
      "outputs": []
    },
    {
      "cell_type": "code",
      "metadata": {
        "id": "nduZiBZq7q4b"
      },
      "source": [
        "x_add = perturbs (10/255,x_train,y_train)\n",
        "x_train1 = np.concatenate((x_train, x_add), axis=0)\n",
        "y_train1 = np.concatenate((y_train, y_train), axis=0)"
      ],
      "execution_count": 329,
      "outputs": []
    },
    {
      "cell_type": "code",
      "metadata": {
        "colab": {
          "base_uri": "https://localhost:8080/"
        },
        "id": "7pnsGrATlvl9",
        "outputId": "3e4c28d2-9664-4e62-d859-27e6f6433552"
      },
      "source": [
        "model = tf.keras.models.Sequential([\n",
        "  tf.keras.layers.Flatten(input_shape=(28, 28)),\n",
        "  tf.keras.layers.Dense(128, activation='relu'),\n",
        "  tf.keras.layers.Dropout(0.2),\n",
        "  tf.keras.layers.Dense(10)\n",
        "])\n",
        "predictions = model(x_train[:1]).numpy()\n",
        "tf.nn.softmax(predictions).numpy()\n",
        "loss_fn = tf.keras.losses.SparseCategoricalCrossentropy(from_logits=True)\n",
        "model.compile(optimizer='adam',\n",
        "              loss=loss_fn,\n",
        "              metrics=['accuracy'])\n",
        "model.fit(x_train1, y_train1, epochs=5)\n",
        "model.evaluate(x_test,  y_test, verbose=2)"
      ],
      "execution_count": 330,
      "outputs": [
        {
          "output_type": "stream",
          "text": [
            "Epoch 1/5\n",
            "3750/3750 [==============================] - 7s 2ms/step - loss: 0.2037 - accuracy: 0.9415\n",
            "Epoch 2/5\n",
            "3750/3750 [==============================] - 7s 2ms/step - loss: 0.0815 - accuracy: 0.9752\n",
            "Epoch 3/5\n",
            "3750/3750 [==============================] - 7s 2ms/step - loss: 0.0585 - accuracy: 0.9815\n",
            "Epoch 4/5\n",
            "3750/3750 [==============================] - 7s 2ms/step - loss: 0.0472 - accuracy: 0.9849\n",
            "Epoch 5/5\n",
            "3750/3750 [==============================] - 7s 2ms/step - loss: 0.0416 - accuracy: 0.9867\n",
            "313/313 - 0s - loss: 0.0826 - accuracy: 0.9749\n"
          ],
          "name": "stdout"
        },
        {
          "output_type": "execute_result",
          "data": {
            "text/plain": [
              "[0.08258301019668579, 0.9749000072479248]"
            ]
          },
          "metadata": {
            "tags": []
          },
          "execution_count": 330
        }
      ]
    },
    {
      "cell_type": "code",
      "metadata": {
        "id": "tGCBr7nfmC5s"
      },
      "source": [
        "probability_model = tf.keras.Sequential([\n",
        "  model,\n",
        "  tf.keras.layers.Softmax()\n",
        "])"
      ],
      "execution_count": 331,
      "outputs": []
    },
    {
      "cell_type": "code",
      "metadata": {
        "colab": {
          "base_uri": "https://localhost:8080/",
          "height": 382
        },
        "id": "XjH92pB2KBmK",
        "outputId": "0243d31b-b517-42c6-81af-4c33945b3e39"
      },
      "source": [
        "global parameters\n",
        "if __name__ == \"__main__\":\n",
        "  output = np.array(probability_model(x_test))\n",
        "  res = np.argmax(output,axis=1).tolist()\n",
        "  y_test.tolist()\n",
        "  c = 0\n",
        "  right_index = []\n",
        "  for i in range(len(res)):\n",
        "    if res[i] == y_test[i]:\n",
        "      c += 1\n",
        "      right_index.append(i)\n",
        "  parameters = [1, 5, 10, 20, 30, 40, 50]\n",
        "  U_F = FGSM(x_test,y_test)\n",
        "  pre_acc = []\n",
        "  c = 0\n",
        "  success_rate = []\n",
        "  for parameter in parameters:\n",
        "    x_new = U_F.Non_target_fgsm(parameter/255)\n",
        "    pre_acc.append(model.evaluate(x_new,y_test)[1])\n",
        "    out_new = np.array(probability_model(x_new))\n",
        "    output_new = np.argmax(out_new,axis=1).tolist()\n",
        "    c = 0\n",
        "    for i in right_index:\n",
        "      if output_new[i] != y_test[i]:\n",
        "        c += 1\n",
        "    success_rate.append(c/len(right_index))\n",
        "  import matplotlib.pyplot as plt\n",
        "  plt.plot(success_rate)\n",
        "  plt.plot(pre_acc)\n",
        "  plt.show()"
      ],
      "execution_count": 332,
      "outputs": [
        {
          "output_type": "stream",
          "text": [
            "313/313 [==============================] - 0s 1ms/step - loss: 0.1591 - accuracy: 0.9540\n",
            "313/313 [==============================] - 0s 1ms/step - loss: 1.5453 - accuracy: 0.6219\n",
            "313/313 [==============================] - 0s 1ms/step - loss: 7.4073 - accuracy: 0.1598\n",
            "313/313 [==============================] - 0s 1ms/step - loss: 24.9884 - accuracy: 0.0241\n",
            "313/313 [==============================] - 0s 1ms/step - loss: 45.4808 - accuracy: 0.0078\n",
            "313/313 [==============================] - 0s 1ms/step - loss: 67.8475 - accuracy: 0.0018\n",
            "313/313 [==============================] - 0s 1ms/step - loss: 91.3914 - accuracy: 5.0000e-04\n"
          ],
          "name": "stdout"
        },
        {
          "output_type": "display_data",
          "data": {
            "image/png": "[encoded data removed]",
            "text/plain": [
              "<Figure size 432x288 with 1 Axes>"
            ]
          },
          "metadata": {
            "tags": [],
            "needs_background": "light"
          }
        }
      ]
    },
    {
      "cell_type": "code",
      "metadata": {
        "colab": {
          "base_uri": "https://localhost:8080/"
        },
        "id": "4KPZ8R3xrXCt",
        "outputId": "dcb4ea65-46ea-4dc2-a3d1-077a6918f672"
      },
      "source": [
        "success_rate"
      ],
      "execution_count": 323,
      "outputs": [
        {
          "output_type": "execute_result",
          "data": {
            "text/plain": [
              "[0.01924257932446264,\n",
              " 0.33961105424769705,\n",
              " 0.8324462640736949,\n",
              " 0.9757420675537359,\n",
              " 0.9960081883316274,\n",
              " 0.9991811668372569,\n",
              " 0.9997952917093142]"
            ]
          },
          "metadata": {
            "tags": []
          },
          "execution_count": 323
        }
      ]
    }
  ]
}